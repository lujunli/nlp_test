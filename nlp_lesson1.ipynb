{
 "cells": [
  {
   "cell_type": "markdown",
   "metadata": {},
   "source": [
    "# Rule Based"
   ]
  },
  {
   "cell_type": "code",
   "execution_count": 1,
   "metadata": {},
   "outputs": [],
   "source": [
    "grammar=  \"\"\"\n",
    "sentence=adj noun verb adv noun2  \n",
    "adj= adj_single adj_single 的|null\n",
    "adj_single= 漂亮|蓝色|好看\n",
    "adv= 安静地|静静\n",
    "noun= 猫|女人|男人\n",
    "verb= adv 看着| adv 坐着 \n",
    "noun2=桌子|皮球 \n",
    "\"\"\""
   ]
  },
  {
   "cell_type": "code",
   "execution_count": 2,
   "metadata": {},
   "outputs": [],
   "source": [
    "import random\n",
    "def build_grammar(grammar_str):\n",
    "    grammar_pattern={}\n",
    "    for line in grammar.split('\\n'):\n",
    "        if not line: continue\n",
    "        stmt,expr=line.split('=')\n",
    "        grammar_pattern[stmt]=[e.split() for e in expr.split('|')]\n",
    "    return grammar_pattern"
   ]
  },
  {
   "cell_type": "code",
   "execution_count": 3,
   "metadata": {},
   "outputs": [],
   "source": [
    "def generate(grammar_pattern,target):\n",
    "    if target not in grammar_pattern: return target\n",
    "    expr=random.choice(grammar_pattern[target])\n",
    "    token=[generate(grammar_pattern,e) for e in expr]\n",
    "    return ''.join([e for e in token if e!='null'])"
   ]
  },
  {
   "cell_type": "code",
   "execution_count": 4,
   "metadata": {},
   "outputs": [
    {
     "data": {
      "text/plain": [
       "'漂亮好看的女人安静地看着静静桌子'"
      ]
     },
     "execution_count": 4,
     "metadata": {},
     "output_type": "execute_result"
    }
   ],
   "source": [
    "grammar_pattern=build_grammar(grammar)\n",
    "generate(grammar_pattern,'sentence')"
   ]
  },
  {
   "cell_type": "markdown",
   "metadata": {},
   "source": [
    "# A simple solution"
   ]
  },
  {
   "cell_type": "code",
   "execution_count": 5,
   "metadata": {},
   "outputs": [],
   "source": [
    "import random\n",
    "def adj(): return random.choice('漂亮|蓝色|好看'.split('|'))\n",
    "def noun(): return random.choice('猫|女人|男人'.split('|'))\n",
    "def verb(): return random.choice('看着|坐着'.split('|'))\n",
    "def noun2(): return random.choice('桌子|皮球'.split('|'))\n",
    "def sentence(): return ''.join([adj(),noun(),verb(),noun2()])"
   ]
  },
  {
   "cell_type": "code",
   "execution_count": 6,
   "metadata": {},
   "outputs": [
    {
     "data": {
      "text/plain": [
       "'漂亮猫看着桌子'"
      ]
     },
     "execution_count": 6,
     "metadata": {},
     "output_type": "execute_result"
    }
   ],
   "source": [
    "sentence()"
   ]
  },
  {
   "cell_type": "markdown",
   "metadata": {},
   "source": [
    "# Search Based"
   ]
  },
  {
   "cell_type": "code",
   "execution_count": 7,
   "metadata": {},
   "outputs": [],
   "source": [
    "graph={\n",
    "    'A':'B C',\n",
    "    'B':'A C',\n",
    "    'C':'A D E',\n",
    "    'D':'C',\n",
    "    'E':'C F',\n",
    "    'F':'E'\n",
    "}\n",
    "for i in graph:\n",
    "    graph[i]=graph[i].split()"
   ]
  },
  {
   "cell_type": "code",
   "execution_count": 8,
   "metadata": {},
   "outputs": [
    {
     "data": {
      "text/plain": [
       "{'A': ['B', 'C'],\n",
       " 'B': ['A', 'C'],\n",
       " 'C': ['A', 'D', 'E'],\n",
       " 'D': ['C'],\n",
       " 'E': ['C', 'F'],\n",
       " 'F': ['E']}"
      ]
     },
     "execution_count": 8,
     "metadata": {},
     "output_type": "execute_result"
    }
   ],
   "source": [
    "graph"
   ]
  },
  {
   "cell_type": "markdown",
   "metadata": {},
   "source": [
    "# Breadth First Search"
   ]
  },
  {
   "cell_type": "code",
   "execution_count": 9,
   "metadata": {},
   "outputs": [
    {
     "name": "stdout",
     "output_type": "stream",
     "text": [
      " i am looking at:A\n",
      " i am looking at:B\n",
      " i am looking at:C\n",
      " i am looking at:D\n",
      " i am looking at:E\n",
      " i am looking at:F\n"
     ]
    }
   ],
   "source": [
    "seen=set()\n",
    "need_visited=['A']\n",
    "while need_visited:\n",
    "    node=need_visited.pop(0)\n",
    "    if node in seen: continue\n",
    "    print(' i am looking at:{}'.format(node))\n",
    "    need_visited+=graph[node]  #原有的点优先\n",
    "    seen.add(node)"
   ]
  },
  {
   "cell_type": "markdown",
   "metadata": {},
   "source": [
    "# Deep First Search"
   ]
  },
  {
   "cell_type": "code",
   "execution_count": 10,
   "metadata": {},
   "outputs": [],
   "source": [
    "graph_long = {\n",
    "    '1': '2 7',\n",
    "    '2': '3', \n",
    "    '3': '4', \n",
    "    '4': '5', \n",
    "    '5': '6 10', \n",
    "    '7': '8',\n",
    "    '6': '5',\n",
    "    '8': '9',\n",
    "    '9': '10', \n",
    "    '10': '5 11', \n",
    "    '11': '12',\n",
    "    '12': '11',\n",
    "}\n",
    "for n in graph_long: graph_long[n]=graph_long[n].split()"
   ]
  },
  {
   "cell_type": "code",
   "execution_count": 11,
   "metadata": {},
   "outputs": [],
   "source": [
    "def search(graph,concat_func):\n",
    "    seen=set()\n",
    "    need_visited=['1']\n",
    "    while need_visited:\n",
    "        node=need_visited.pop(0)\n",
    "        if node in seen: continue\n",
    "        print('i am looking at:{}'.format(node))\n",
    "        seen.add(node)\n",
    "        new_discovered=graph[node]\n",
    "        need_visited=concat_func(new_discovered,need_visited)"
   ]
  },
  {
   "cell_type": "code",
   "execution_count": 12,
   "metadata": {},
   "outputs": [],
   "source": [
    "def dfs_new_discover_import(new_discovered,need_discovered):\n",
    "    return new_discovered+need_discovered\n",
    "\n",
    "def bfs_already_discover_import(new_discovered,need_discovered):\n",
    "    return need_discovered+new_discovered"
   ]
  },
  {
   "cell_type": "code",
   "execution_count": 13,
   "metadata": {},
   "outputs": [
    {
     "name": "stdout",
     "output_type": "stream",
     "text": [
      "i am looking at:1\n",
      "i am looking at:2\n",
      "i am looking at:3\n",
      "i am looking at:4\n",
      "i am looking at:5\n",
      "i am looking at:6\n",
      "i am looking at:10\n",
      "i am looking at:11\n",
      "i am looking at:12\n",
      "i am looking at:7\n",
      "i am looking at:8\n",
      "i am looking at:9\n"
     ]
    }
   ],
   "source": [
    "search(graph_long,dfs_new_discover_import)"
   ]
  },
  {
   "cell_type": "code",
   "execution_count": 14,
   "metadata": {},
   "outputs": [],
   "source": [
    "from functools import partial #偏函数,已知部分参数"
   ]
  },
  {
   "cell_type": "code",
   "execution_count": 15,
   "metadata": {},
   "outputs": [],
   "source": [
    "dfs=partial(search,concat_func=dfs_new_discover_import)  "
   ]
  },
  {
   "cell_type": "code",
   "execution_count": 16,
   "metadata": {},
   "outputs": [
    {
     "name": "stdout",
     "output_type": "stream",
     "text": [
      "i am looking at:1\n",
      "i am looking at:2\n",
      "i am looking at:3\n",
      "i am looking at:4\n",
      "i am looking at:5\n",
      "i am looking at:6\n",
      "i am looking at:10\n",
      "i am looking at:11\n",
      "i am looking at:12\n",
      "i am looking at:7\n",
      "i am looking at:8\n",
      "i am looking at:9\n"
     ]
    }
   ],
   "source": [
    "dfs(graph_long)"
   ]
  },
  {
   "cell_type": "code",
   "execution_count": 17,
   "metadata": {},
   "outputs": [
    {
     "name": "stdout",
     "output_type": "stream",
     "text": [
      "i am looking at:1\n",
      "i am looking at:2\n",
      "i am looking at:7\n",
      "i am looking at:3\n",
      "i am looking at:8\n",
      "i am looking at:4\n",
      "i am looking at:9\n",
      "i am looking at:5\n",
      "i am looking at:10\n",
      "i am looking at:6\n",
      "i am looking at:11\n",
      "i am looking at:12\n"
     ]
    }
   ],
   "source": [
    "bfs=partial(search,concat_func=bfs_already_discover_import)\n",
    "bfs(graph_long)"
   ]
  },
  {
   "cell_type": "markdown",
   "metadata": {},
   "source": [
    "# Mapping"
   ]
  },
  {
   "cell_type": "code",
   "execution_count": 18,
   "metadata": {},
   "outputs": [],
   "source": [
    "BJ = 'Beijing'\n",
    "SZ = 'Shenzhen'\n",
    "GZ = 'Guangzhou'\n",
    "WH = 'Wuhan'\n",
    "HLG = 'Heilongjiang'\n",
    "NY = 'New York City'\n",
    "CM = 'Chiangmai'\n",
    "SG = 'Singapore'"
   ]
  },
  {
   "cell_type": "code",
   "execution_count": 19,
   "metadata": {},
   "outputs": [],
   "source": [
    "air_route = {\n",
    "    BJ : {SZ, GZ, WH, HLG, NY}, \n",
    "    GZ : {WH, BJ, CM, SG},\n",
    "    SZ : {BJ, SG},\n",
    "    WH : {BJ, GZ},\n",
    "    HLG : {BJ},\n",
    "    CM : {GZ},\n",
    "    NY : {BJ}\n",
    "}"
   ]
  },
  {
   "cell_type": "code",
   "execution_count": 20,
   "metadata": {},
   "outputs": [],
   "source": [
    "import networkx"
   ]
  },
  {
   "cell_type": "code",
   "execution_count": 21,
   "metadata": {},
   "outputs": [],
   "source": [
    "air_route=networkx.Graph(air_route)"
   ]
  },
  {
   "cell_type": "code",
   "execution_count": 22,
   "metadata": {},
   "outputs": [],
   "source": [
    "%matplotlib inline"
   ]
  },
  {
   "cell_type": "code",
   "execution_count": 23,
   "metadata": {},
   "outputs": [
    {
     "data": {
      "image/png": "[encoded data removed]",
      "text/plain": [
       "<Figure size 432x288 with 1 Axes>"
      ]
     },
     "metadata": {},
     "output_type": "display_data"
    }
   ],
   "source": [
    "networkx.draw(air_route,with_labels=True)"
   ]
  },
  {
   "cell_type": "code",
   "execution_count": 24,
   "metadata": {},
   "outputs": [],
   "source": [
    "def search_destination(graph,start,destination):\n",
    "    pathes=[[start]]\n",
    "    seen=set()\n",
    "    choosen_path=[]\n",
    "    while pathes:\n",
    "        path=pathes.pop(0)\n",
    "        froniter=path[-1]\n",
    "        \n",
    "        for city in graph[froniter]:\n",
    "            new_path=path+[city]\n",
    "            pathes.append(new_path)\n",
    "            if city == destination: return new_path\n",
    "    return None\n"
   ]
  },
  {
   "cell_type": "code",
   "execution_count": 31,
   "metadata": {},
   "outputs": [],
   "source": [
    "def draw_route(citys): return '✈->'.join(citys)"
   ]
  },
  {
   "cell_type": "code",
   "execution_count": 32,
   "metadata": {},
   "outputs": [
    {
     "data": {
      "text/plain": [
       "['Chiangmai', 'Guangzhou', 'Beijing', 'Shenzhen']"
      ]
     },
     "execution_count": 32,
     "metadata": {},
     "output_type": "execute_result"
    }
   ],
   "source": [
    "search_destination(air_route,CM,SZ)"
   ]
  },
  {
   "cell_type": "code",
   "execution_count": 33,
   "metadata": {},
   "outputs": [
    {
     "data": {
      "text/plain": [
       "'Chiangmai✈->Guangzhou✈->Beijing✈->Shenzhen'"
      ]
     },
     "execution_count": 33,
     "metadata": {},
     "output_type": "execute_result"
    }
   ],
   "source": [
    "draw_route(search_destination(air_route,CM,SZ))"
   ]
  },
  {
   "cell_type": "code",
   "execution_count": null,
   "metadata": {},
   "outputs": [],
   "source": []
  }
 ],
 "metadata": {
  "kernelspec": {
   "display_name": "Python 3",
   "language": "python",
   "name": "python3"
  },
  "language_info": {
   "codemirror_mode": {
    "name": "ipython",
    "version": 3
   },
   "file_extension": ".py",
   "mimetype": "text/x-python",
   "name": "python",
   "nbconvert_exporter": "python",
   "pygments_lexer": "ipython3",
   "version": "3.6.5"
  }
 },
 "nbformat": 4,
 "nbformat_minor": 2
}
